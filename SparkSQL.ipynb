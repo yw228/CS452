{
  "nbformat": 4,
  "nbformat_minor": 0,
  "metadata": {
    "colab": {
      "provenance": [],
      "authorship_tag": "ABX9TyNs5l19PEaAaFFVcqloBW0N",
      "include_colab_link": true
    },
    "kernelspec": {
      "name": "python3",
      "display_name": "Python 3"
    },
    "language_info": {
      "name": "python"
    }
  },
  "cells": [
    {
      "cell_type": "markdown",
      "metadata": {
        "id": "view-in-github",
        "colab_type": "text"
      },
      "source": [
        "<a href=\"https://colab.research.google.com/github/yw228/CS452/blob/main/SparkSQL.ipynb\" target=\"_parent\"><img src=\"https://colab.research.google.com/assets/colab-badge.svg\" alt=\"Open In Colab\"/></a>"
      ]
    },
    {
      "cell_type": "code",
      "execution_count": 7,
      "metadata": {
        "colab": {
          "base_uri": "https://localhost:8080/"
        },
        "id": "zehALelkXecI",
        "outputId": "ffff1948-586d-4ffd-d70b-72ef24a3e0eb"
      },
      "outputs": [
        {
          "output_type": "stream",
          "name": "stdout",
          "text": [
            "Looking in indexes: https://pypi.org/simple, https://us-python.pkg.dev/colab-wheels/public/simple/\n",
            "Requirement already satisfied: pyspark in /usr/local/lib/python3.8/dist-packages (3.3.2)\n",
            "Requirement already satisfied: py4j==0.10.9.5 in /usr/local/lib/python3.8/dist-packages (from pyspark) (0.10.9.5)\n"
          ]
        }
      ],
      "source": [
        "pip install pyspark"
      ]
    },
    {
      "cell_type": "code",
      "source": [
        "from pyspark.sql import SparkSession\n",
        "from pyspark.sql.functions import *\n"
      ],
      "metadata": {
        "id": "okpYLHK2Xlb4"
      },
      "execution_count": 41,
      "outputs": []
    },
    {
      "cell_type": "code",
      "source": [
        "# Mount my Google drive\n",
        "from google.colab import drive\n",
        "drive.mount('/content/drive')"
      ],
      "metadata": {
        "colab": {
          "base_uri": "https://localhost:8080/"
        },
        "id": "VHdwMcpKXnJJ",
        "outputId": "2ccb19dd-7743-482e-d310-b37926f753c7"
      },
      "execution_count": 9,
      "outputs": [
        {
          "output_type": "stream",
          "name": "stdout",
          "text": [
            "Drive already mounted at /content/drive; to attempt to forcibly remount, call drive.mount(\"/content/drive\", force_remount=True).\n"
          ]
        }
      ]
    },
    {
      "cell_type": "code",
      "source": [
        "spark = SparkSession.builder \\\n",
        "    .appName(\"SparkSQLExercise\") \\\n",
        "    .getOrCreate()\n",
        "sc = spark.sparkContext\n",
        "sc.setLogLevel('WARN')\n",
        "sc.uiWebUrl"
      ],
      "metadata": {
        "colab": {
          "base_uri": "https://localhost:8080/",
          "height": 36
        },
        "id": "vJFwcFYgXofD",
        "outputId": "f4c61377-c4ad-42a8-9e76-93fc9e45fcc8"
      },
      "execution_count": 10,
      "outputs": [
        {
          "output_type": "execute_result",
          "data": {
            "text/plain": [
              "'http://5df341d0eee3:4040'"
            ],
            "application/vnd.google.colaboratory.intrinsic+json": {
              "type": "string"
            }
          },
          "metadata": {},
          "execution_count": 10
        }
      ]
    },
    {
      "cell_type": "code",
      "source": [
        "myfile = \"drive/MyDrive/Colab Notebooks/cs452/inputData/us-countries.csv\"\n",
        "\n",
        "data = spark.read.format(\"csv\") \\\n",
        "    .option(\"header\", \"true\") \\\n",
        "    .option(\"inferSchema\", \"true\") \\\n",
        "    .load(myfile)\n",
        "#df = spark.read.csv(myfile, header=True, inferSchema=True)\n",
        "\n"
      ],
      "metadata": {
        "id": "a1cgDKc6XsVO"
      },
      "execution_count": 29,
      "outputs": []
    },
    {
      "cell_type": "code",
      "source": [
        "data.show()"
      ],
      "metadata": {
        "colab": {
          "base_uri": "https://localhost:8080/"
        },
        "id": "rR08AcGjfP1I",
        "outputId": "5b1fde0a-6338-4716-a881-6e0390ab64af"
      },
      "execution_count": 30,
      "outputs": [
        {
          "output_type": "stream",
          "name": "stdout",
          "text": [
            "+-------------------+-----------+----------+-----+-----+------+\n",
            "|               date|     county|     state| fips|cases|deaths|\n",
            "+-------------------+-----------+----------+-----+-----+------+\n",
            "|2020-01-21 00:00:00|  Snohomish|Washington|53061|    1|     0|\n",
            "|2020-01-22 00:00:00|  Snohomish|Washington|53061|    1|     0|\n",
            "|2020-01-23 00:00:00|  Snohomish|Washington|53061|    1|     0|\n",
            "|2020-01-24 00:00:00|       Cook|  Illinois|17031|    1|     0|\n",
            "|2020-01-24 00:00:00|  Snohomish|Washington|53061|    1|     0|\n",
            "|2020-01-25 00:00:00|     Orange|California| 6059|    1|     0|\n",
            "|2020-01-25 00:00:00|       Cook|  Illinois|17031|    1|     0|\n",
            "|2020-01-25 00:00:00|  Snohomish|Washington|53061|    1|     0|\n",
            "|2020-01-26 00:00:00|   Maricopa|   Arizona| 4013|    1|     0|\n",
            "|2020-01-26 00:00:00|Los Angeles|California| 6037|    1|     0|\n",
            "|2020-01-26 00:00:00|     Orange|California| 6059|    1|     0|\n",
            "|2020-01-26 00:00:00|       Cook|  Illinois|17031|    1|     0|\n",
            "|2020-01-26 00:00:00|  Snohomish|Washington|53061|    1|     0|\n",
            "|2020-01-27 00:00:00|   Maricopa|   Arizona| 4013|    1|     0|\n",
            "|2020-01-27 00:00:00|Los Angeles|California| 6037|    1|     0|\n",
            "|2020-01-27 00:00:00|     Orange|California| 6059|    1|     0|\n",
            "|2020-01-27 00:00:00|       Cook|  Illinois|17031|    1|     0|\n",
            "|2020-01-27 00:00:00|  Snohomish|Washington|53061|    1|     0|\n",
            "|2020-01-28 00:00:00|   Maricopa|   Arizona| 4013|    1|     0|\n",
            "|2020-01-28 00:00:00|Los Angeles|California| 6037|    1|     0|\n",
            "+-------------------+-----------+----------+-----+-----+------+\n",
            "only showing top 20 rows\n",
            "\n"
          ]
        }
      ]
    },
    {
      "cell_type": "code",
      "source": [
        "# Assuming the county column is named \"county\"\n",
        "num_counties = df.select(\"county\").distinct().count()\n",
        "\n",
        "# Print the number of distinct counties\n",
        "print(\"Number of counties:\", num_counties)"
      ],
      "metadata": {
        "colab": {
          "base_uri": "https://localhost:8080/"
        },
        "id": "qvIcAqIMRvF6",
        "outputId": "2373f3ee-1f33-4944-fa2e-278785933080"
      },
      "execution_count": 48,
      "outputs": [
        {
          "output_type": "stream",
          "name": "stdout",
          "text": [
            "Number of counties: 1932\n"
          ]
        }
      ]
    },
    {
      "cell_type": "code",
      "source": [],
      "metadata": {
        "id": "7WIPjXz4Y7w8"
      },
      "execution_count": null,
      "outputs": []
    },
    {
      "cell_type": "markdown",
      "source": [
        "2.Write code to find the county with the most deaths"
      ],
      "metadata": {
        "id": "khmgEBOSgbMf"
      }
    },
    {
      "cell_type": "code",
      "source": [
        "latest_date = data.agg(max(\"date\")).collect()[0][0]\n",
        "latest_data = data.filter(data.date == latest_date)\n",
        "\n",
        "\n",
        "latest_deaths = latest_data.groupBy(\"county\") \\\n",
        "    .agg(max(\"deaths\").alias(\"LatestDeaths\"))\n",
        "\n",
        "\n",
        "# latest_deaths.show(100)\n",
        "\n",
        "\n",
        "max_deaths_county = latest_deaths.orderBy(desc(\"LatestDeaths\")).first()\n",
        "\n",
        "print(\"The county with the most deaths is {} with a total of {} deaths.\".format(max_deaths_county.county, max_deaths_county.LatestDeaths))\n"
      ],
      "metadata": {
        "colab": {
          "base_uri": "https://localhost:8080/"
        },
        "id": "oJkLre_TfAw0",
        "outputId": "18b4ccc6-615b-4207-964a-4522b5ae36dd"
      },
      "execution_count": 60,
      "outputs": [
        {
          "output_type": "stream",
          "name": "stdout",
          "text": [
            "+-------------------+---------+-------+----+-----+------+\n",
            "|               date|   county|  state|fips|cases|deaths|\n",
            "+-------------------+---------+-------+----+-----+------+\n",
            "|2022-05-13 00:00:00|  Autauga|Alabama|1001|15863|   216|\n",
            "|2022-05-13 00:00:00|  Baldwin|Alabama|1003|55862|   681|\n",
            "|2022-05-13 00:00:00|  Barbour|Alabama|1005| 5681|    98|\n",
            "|2022-05-13 00:00:00|     Bibb|Alabama|1007| 6457|   105|\n",
            "|2022-05-13 00:00:00|   Blount|Alabama|1009|15005|   243|\n",
            "|2022-05-13 00:00:00|  Bullock|Alabama|1011| 2319|    54|\n",
            "|2022-05-13 00:00:00|   Butler|Alabama|1013| 5068|   129|\n",
            "|2022-05-13 00:00:00|  Calhoun|Alabama|1015|32453|   627|\n",
            "|2022-05-13 00:00:00| Chambers|Alabama|1017| 8508|   162|\n",
            "|2022-05-13 00:00:00| Cherokee|Alabama|1019| 5131|    86|\n",
            "|2022-05-13 00:00:00|  Chilton|Alabama|1021|11131|   207|\n",
            "|2022-05-13 00:00:00|  Choctaw|Alabama|1023| 2051|    36|\n",
            "|2022-05-13 00:00:00|   Clarke|Alabama|1025| 7154|   101|\n",
            "|2022-05-13 00:00:00|     Clay|Alabama|1027| 4099|    82|\n",
            "|2022-05-13 00:00:00| Cleburne|Alabama|1029| 3566|    69|\n",
            "|2022-05-13 00:00:00|   Coffee|Alabama|1031|13643|   231|\n",
            "|2022-05-13 00:00:00|  Colbert|Alabama|1033|16356|   261|\n",
            "|2022-05-13 00:00:00|  Conecuh|Alabama|1035| 2869|    70|\n",
            "|2022-05-13 00:00:00|    Coosa|Alabama|1037| 2977|    58|\n",
            "|2022-05-13 00:00:00|Covington|Alabama|1039| 9355|   232|\n",
            "+-------------------+---------+-------+----+-----+------+\n",
            "only showing top 20 rows\n",
            "\n",
            "The county with the most deaths is New York City with a total of 40267 deaths.\n"
          ]
        }
      ]
    },
    {
      "cell_type": "markdown",
      "source": [
        "3.Write code to find the county with the most cases"
      ],
      "metadata": {
        "id": "jgFNEhahghhN"
      }
    },
    {
      "cell_type": "code",
      "source": [
        "latest_deaths = latest_data.groupBy(\"county\") \\\n",
        "    .agg(max(\"cases\").alias(\"LatestCases\"))\n",
        "\n",
        "#latest_deaths.show(100)\n",
        "\n",
        "max_cases_county = latest_deaths.orderBy(desc(\"LatestCases\")).first()\n",
        "\n",
        "print(\"The county with the most casess is {} with a total of {} cases.\".format(max_cases_county.county, max_cases_county.LatestCases))"
      ],
      "metadata": {
        "colab": {
          "base_uri": "https://localhost:8080/"
        },
        "id": "s_5ZzGd0fuNO",
        "outputId": "bf94dc55-8e50-42da-f657-4af363754d51"
      },
      "execution_count": 55,
      "outputs": [
        {
          "output_type": "stream",
          "name": "stdout",
          "text": [
            "The county with the most casess is Los Angeles with a total of 2908425 cases.\n"
          ]
        }
      ]
    },
    {
      "cell_type": "markdown",
      "source": [
        "4.Write code to find the total number of deaths in Utah county"
      ],
      "metadata": {
        "id": "5jmZj30_gYy9"
      }
    },
    {
      "cell_type": "code",
      "source": [
        "utah_data = data.filter((data.county == \"Utah\") & (data.state == \"Utah\"))\n",
        "\n",
        "#utah_data.show()\n",
        "\n",
        "latest_date = utah_data.agg(max(\"date\")).collect()[0][0]\n",
        "latest_data = utah_data.filter(data.date == latest_date)\n",
        "\n",
        "latest_data.show()\n",
        "\n",
        "total_deaths = latest_data.agg(sum(\"deaths\")).collect()[0][0]\n",
        "print(\"The total number of deaths in Utah county is {}\".format(total_deaths))"
      ],
      "metadata": {
        "colab": {
          "base_uri": "https://localhost:8080/"
        },
        "id": "8aBfzTvTgNx4",
        "outputId": "033933ab-3ffb-4c42-a13b-06d97b3ce048"
      },
      "execution_count": 71,
      "outputs": [
        {
          "output_type": "stream",
          "name": "stdout",
          "text": [
            "+-------------------+------+-----+-----+------+------+\n",
            "|               date|county|state| fips| cases|deaths|\n",
            "+-------------------+------+-----+-----+------+------+\n",
            "|2022-05-13 00:00:00|  Utah| Utah|49049|203286|   791|\n",
            "+-------------------+------+-----+-----+------+------+\n",
            "\n",
            "The total number of deaths in Utah county is 791\n"
          ]
        }
      ]
    },
    {
      "cell_type": "markdown",
      "source": [
        "5. Write code to find the death rate for each state and sort the states by death rate"
      ],
      "metadata": {
        "id": "9mteIAlUu4Nk"
      }
    },
    {
      "cell_type": "code",
      "source": [
        "df.show(100)"
      ],
      "metadata": {
        "colab": {
          "base_uri": "https://localhost:8080/"
        },
        "id": "oLqQCwIdxRZG",
        "outputId": "fcf71a8c-a843-4915-db73-9da4fadadf47"
      },
      "execution_count": 74,
      "outputs": [
        {
          "output_type": "stream",
          "name": "stdout",
          "text": [
            "+-------------------+-------------+-------------+-----+-----+------+\n",
            "|               date|       county|        state| fips|cases|deaths|\n",
            "+-------------------+-------------+-------------+-----+-----+------+\n",
            "|2020-01-21 00:00:00|    Snohomish|   Washington|53061|    1|     0|\n",
            "|2020-01-22 00:00:00|    Snohomish|   Washington|53061|    1|     0|\n",
            "|2020-01-23 00:00:00|    Snohomish|   Washington|53061|    1|     0|\n",
            "|2020-01-24 00:00:00|         Cook|     Illinois|17031|    1|     0|\n",
            "|2020-01-24 00:00:00|    Snohomish|   Washington|53061|    1|     0|\n",
            "|2020-01-25 00:00:00|       Orange|   California| 6059|    1|     0|\n",
            "|2020-01-25 00:00:00|         Cook|     Illinois|17031|    1|     0|\n",
            "|2020-01-25 00:00:00|    Snohomish|   Washington|53061|    1|     0|\n",
            "|2020-01-26 00:00:00|     Maricopa|      Arizona| 4013|    1|     0|\n",
            "|2020-01-26 00:00:00|  Los Angeles|   California| 6037|    1|     0|\n",
            "|2020-01-26 00:00:00|       Orange|   California| 6059|    1|     0|\n",
            "|2020-01-26 00:00:00|         Cook|     Illinois|17031|    1|     0|\n",
            "|2020-01-26 00:00:00|    Snohomish|   Washington|53061|    1|     0|\n",
            "|2020-01-27 00:00:00|     Maricopa|      Arizona| 4013|    1|     0|\n",
            "|2020-01-27 00:00:00|  Los Angeles|   California| 6037|    1|     0|\n",
            "|2020-01-27 00:00:00|       Orange|   California| 6059|    1|     0|\n",
            "|2020-01-27 00:00:00|         Cook|     Illinois|17031|    1|     0|\n",
            "|2020-01-27 00:00:00|    Snohomish|   Washington|53061|    1|     0|\n",
            "|2020-01-28 00:00:00|     Maricopa|      Arizona| 4013|    1|     0|\n",
            "|2020-01-28 00:00:00|  Los Angeles|   California| 6037|    1|     0|\n",
            "|2020-01-28 00:00:00|       Orange|   California| 6059|    1|     0|\n",
            "|2020-01-28 00:00:00|         Cook|     Illinois|17031|    1|     0|\n",
            "|2020-01-28 00:00:00|    Snohomish|   Washington|53061|    1|     0|\n",
            "|2020-01-29 00:00:00|     Maricopa|      Arizona| 4013|    1|     0|\n",
            "|2020-01-29 00:00:00|  Los Angeles|   California| 6037|    1|     0|\n",
            "|2020-01-29 00:00:00|       Orange|   California| 6059|    1|     0|\n",
            "|2020-01-29 00:00:00|         Cook|     Illinois|17031|    1|     0|\n",
            "|2020-01-29 00:00:00|    Snohomish|   Washington|53061|    1|     0|\n",
            "|2020-01-30 00:00:00|     Maricopa|      Arizona| 4013|    1|     0|\n",
            "|2020-01-30 00:00:00|  Los Angeles|   California| 6037|    1|     0|\n",
            "|2020-01-30 00:00:00|       Orange|   California| 6059|    1|     0|\n",
            "|2020-01-30 00:00:00|         Cook|     Illinois|17031|    2|     0|\n",
            "|2020-01-30 00:00:00|    Snohomish|   Washington|53061|    1|     0|\n",
            "|2020-01-31 00:00:00|     Maricopa|      Arizona| 4013|    1|     0|\n",
            "|2020-01-31 00:00:00|  Los Angeles|   California| 6037|    1|     0|\n",
            "|2020-01-31 00:00:00|       Orange|   California| 6059|    1|     0|\n",
            "|2020-01-31 00:00:00|  Santa Clara|   California| 6085|    1|     0|\n",
            "|2020-01-31 00:00:00|         Cook|     Illinois|17031|    2|     0|\n",
            "|2020-01-31 00:00:00|    Snohomish|   Washington|53061|    1|     0|\n",
            "|2020-02-01 00:00:00|     Maricopa|      Arizona| 4013|    1|     0|\n",
            "|2020-02-01 00:00:00|  Los Angeles|   California| 6037|    1|     0|\n",
            "|2020-02-01 00:00:00|       Orange|   California| 6059|    1|     0|\n",
            "|2020-02-01 00:00:00|  Santa Clara|   California| 6085|    1|     0|\n",
            "|2020-02-01 00:00:00|         Cook|     Illinois|17031|    2|     0|\n",
            "|2020-02-01 00:00:00|      Suffolk|Massachusetts|25025|    1|     0|\n",
            "|2020-02-01 00:00:00|    Snohomish|   Washington|53061|    1|     0|\n",
            "|2020-02-02 00:00:00|     Maricopa|      Arizona| 4013|    1|     0|\n",
            "|2020-02-02 00:00:00|  Los Angeles|   California| 6037|    1|     0|\n",
            "|2020-02-02 00:00:00|       Orange|   California| 6059|    1|     0|\n",
            "|2020-02-02 00:00:00|San Francisco|   California| 6075|    2|     0|\n",
            "|2020-02-02 00:00:00|  Santa Clara|   California| 6085|    2|     0|\n",
            "|2020-02-02 00:00:00|         Cook|     Illinois|17031|    2|     0|\n",
            "|2020-02-02 00:00:00|      Suffolk|Massachusetts|25025|    1|     0|\n",
            "|2020-02-02 00:00:00|    Snohomish|   Washington|53061|    1|     0|\n",
            "|2020-02-03 00:00:00|     Maricopa|      Arizona| 4013|    1|     0|\n",
            "|2020-02-03 00:00:00|  Los Angeles|   California| 6037|    1|     0|\n",
            "|2020-02-03 00:00:00|       Orange|   California| 6059|    1|     0|\n",
            "|2020-02-03 00:00:00|San Francisco|   California| 6075|    2|     0|\n",
            "|2020-02-03 00:00:00|  Santa Clara|   California| 6085|    2|     0|\n",
            "|2020-02-03 00:00:00|         Cook|     Illinois|17031|    2|     0|\n",
            "|2020-02-03 00:00:00|      Suffolk|Massachusetts|25025|    1|     0|\n",
            "|2020-02-03 00:00:00|    Snohomish|   Washington|53061|    1|     0|\n",
            "|2020-02-04 00:00:00|     Maricopa|      Arizona| 4013|    1|     0|\n",
            "|2020-02-04 00:00:00|  Los Angeles|   California| 6037|    1|     0|\n",
            "|2020-02-04 00:00:00|       Orange|   California| 6059|    1|     0|\n",
            "|2020-02-04 00:00:00|San Francisco|   California| 6075|    2|     0|\n",
            "|2020-02-04 00:00:00|  Santa Clara|   California| 6085|    2|     0|\n",
            "|2020-02-04 00:00:00|         Cook|     Illinois|17031|    2|     0|\n",
            "|2020-02-04 00:00:00|      Suffolk|Massachusetts|25025|    1|     0|\n",
            "|2020-02-04 00:00:00|    Snohomish|   Washington|53061|    1|     0|\n",
            "|2020-02-05 00:00:00|     Maricopa|      Arizona| 4013|    1|     0|\n",
            "|2020-02-05 00:00:00|  Los Angeles|   California| 6037|    1|     0|\n",
            "|2020-02-05 00:00:00|       Orange|   California| 6059|    1|     0|\n",
            "|2020-02-05 00:00:00|San Francisco|   California| 6075|    2|     0|\n",
            "|2020-02-05 00:00:00|  Santa Clara|   California| 6085|    2|     0|\n",
            "|2020-02-05 00:00:00|         Cook|     Illinois|17031|    2|     0|\n",
            "|2020-02-05 00:00:00|      Suffolk|Massachusetts|25025|    1|     0|\n",
            "|2020-02-05 00:00:00|    Snohomish|   Washington|53061|    1|     0|\n",
            "|2020-02-05 00:00:00|         Dane|    Wisconsin|55025|    1|     0|\n",
            "|2020-02-06 00:00:00|     Maricopa|      Arizona| 4013|    1|     0|\n",
            "|2020-02-06 00:00:00|  Los Angeles|   California| 6037|    1|     0|\n",
            "|2020-02-06 00:00:00|       Orange|   California| 6059|    1|     0|\n",
            "|2020-02-06 00:00:00|San Francisco|   California| 6075|    2|     0|\n",
            "|2020-02-06 00:00:00|  Santa Clara|   California| 6085|    2|     0|\n",
            "|2020-02-06 00:00:00|         Cook|     Illinois|17031|    2|     0|\n",
            "|2020-02-06 00:00:00|      Suffolk|Massachusetts|25025|    1|     0|\n",
            "|2020-02-06 00:00:00|    Snohomish|   Washington|53061|    1|     0|\n",
            "|2020-02-06 00:00:00|         Dane|    Wisconsin|55025|    1|     0|\n",
            "|2020-02-07 00:00:00|     Maricopa|      Arizona| 4013|    1|     0|\n",
            "|2020-02-07 00:00:00|  Los Angeles|   California| 6037|    1|     0|\n",
            "|2020-02-07 00:00:00|       Orange|   California| 6059|    1|     0|\n",
            "|2020-02-07 00:00:00|San Francisco|   California| 6075|    2|     0|\n",
            "|2020-02-07 00:00:00|  Santa Clara|   California| 6085|    2|     0|\n",
            "|2020-02-07 00:00:00|         Cook|     Illinois|17031|    2|     0|\n",
            "|2020-02-07 00:00:00|      Suffolk|Massachusetts|25025|    1|     0|\n",
            "|2020-02-07 00:00:00|    Snohomish|   Washington|53061|    1|     0|\n",
            "|2020-02-07 00:00:00|         Dane|    Wisconsin|55025|    1|     0|\n",
            "|2020-02-08 00:00:00|     Maricopa|      Arizona| 4013|    1|     0|\n",
            "|2020-02-08 00:00:00|  Los Angeles|   California| 6037|    1|     0|\n",
            "|2020-02-08 00:00:00|       Orange|   California| 6059|    1|     0|\n",
            "+-------------------+-------------+-------------+-----+-----+------+\n",
            "only showing top 100 rows\n",
            "\n"
          ]
        }
      ]
    },
    {
      "cell_type": "code",
      "source": [
        "from pyspark.sql.functions import round\n",
        "\n",
        "#latest_data.show(20)\n",
        "\n",
        "\n",
        "total_Death_df = latest_data.groupBy(\"state\").agg(((sum(\"deaths\")/sum(\"cases\"))*100).alias(\"Death rate\") )\n",
        "total_Death_df = total_Death_df.withColumn(\"Death rate\", (round(total_Death_df[\"Death rate\"], 2))).orderBy(desc(\"Death rate\"))\n",
        "total_Death_df.show() \n",
        "\n"
      ],
      "metadata": {
        "colab": {
          "base_uri": "https://localhost:8080/"
        },
        "id": "1irEXGhZu8Ua",
        "outputId": "1ee1f6e9-a9a2-4f3f-9043-bf7851286167"
      },
      "execution_count": 91,
      "outputs": [
        {
          "output_type": "stream",
          "name": "stdout",
          "text": [
            "+-------------+----------+\n",
            "|        state|Death rate|\n",
            "+-------------+----------+\n",
            "| Pennsylvania|      1.57|\n",
            "|  Mississippi|      1.55|\n",
            "|      Alabama|       1.5|\n",
            "|      Georgia|      1.49|\n",
            "|      Arizona|      1.49|\n",
            "|       Nevada|      1.49|\n",
            "|     Michigan|      1.46|\n",
            "|   New Jersey|      1.45|\n",
            "|   New Mexico|      1.45|\n",
            "|         Ohio|      1.42|\n",
            "|     Missouri|      1.42|\n",
            "|  Connecticut|       1.4|\n",
            "|    Louisiana|      1.39|\n",
            "|     Maryland|      1.38|\n",
            "|     Oklahoma|      1.38|\n",
            "|      Indiana|      1.38|\n",
            "|     Arkansas|      1.36|\n",
            "|West Virginia|      1.36|\n",
            "|    Tennessee|      1.31|\n",
            "|        Texas|       1.3|\n",
            "+-------------+----------+\n",
            "only showing top 20 rows\n",
            "\n"
          ]
        }
      ]
    },
    {
      "cell_type": "markdown",
      "source": [
        "6.Write code to something else interesting with this data – your choice\n",
        "\n",
        "Find the State that has the most death"
      ],
      "metadata": {
        "id": "00aIoLz3vA43"
      }
    },
    {
      "cell_type": "code",
      "source": [
        "latest_date = data.agg(max(\"date\")).collect()[0][0]\n",
        "latest_data = data.filter(data.date == latest_date)\n",
        "\n",
        "\n",
        "latest_deaths = latest_data.groupBy(\"state\") \\\n",
        "    .agg(max(\"deaths\").alias(\"LatestDeaths\"))\n",
        "\n",
        "\n",
        "# latest_deaths.show(100)\n",
        "\n",
        "\n",
        "max_deaths_States = latest_deaths.orderBy(desc(\"LatestDeaths\")).first()\n",
        "\n",
        "print(\"The state with the most deaths is {} with a total of {} deaths.\".format(max_deaths_States.state, max_deaths_States.LatestDeaths))"
      ],
      "metadata": {
        "colab": {
          "base_uri": "https://localhost:8080/"
        },
        "id": "Z1N3RggQvAi-",
        "outputId": "637c206c-7aa6-4b25-b52b-fc56bcbfb5fa"
      },
      "execution_count": 92,
      "outputs": [
        {
          "output_type": "stream",
          "name": "stdout",
          "text": [
            "The state with the most deaths is New York with a total of 40267 deaths.\n"
          ]
        }
      ]
    }
  ]
}