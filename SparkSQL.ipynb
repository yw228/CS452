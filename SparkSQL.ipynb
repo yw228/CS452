{
  "nbformat": 4,
  "nbformat_minor": 0,
  "metadata": {
    "colab": {
      "provenance": [],
      "authorship_tag": "ABX9TyMAJrS/y6kHwltKGUMUxVEq",
      "include_colab_link": true
    },
    "kernelspec": {
      "name": "python3",
      "display_name": "Python 3"
    },
    "language_info": {
      "name": "python"
    }
  },
  "cells": [
    {
      "cell_type": "markdown",
      "metadata": {
        "id": "view-in-github",
        "colab_type": "text"
      },
      "source": [
        "<a href=\"https://colab.research.google.com/github/yw228/CS452/blob/main/SparkSQL.ipynb\" target=\"_parent\"><img src=\"https://colab.research.google.com/assets/colab-badge.svg\" alt=\"Open In Colab\"/></a>"
      ]
    },
    {
      "cell_type": "code",
      "execution_count": 5,
      "metadata": {
        "colab": {
          "base_uri": "https://localhost:8080/"
        },
        "id": "zehALelkXecI",
        "outputId": "6015f2d3-f999-4208-c5a5-4b68bb9c6ed2"
      },
      "outputs": [
        {
          "output_type": "stream",
          "name": "stdout",
          "text": [
            "Looking in indexes: https://pypi.org/simple, https://us-python.pkg.dev/colab-wheels/public/simple/\n",
            "Collecting pyspark\n",
            "  Downloading pyspark-3.3.2.tar.gz (281.4 MB)\n",
            "\u001b[2K     \u001b[90m━━━━━━━━━━━━━━━━━━━━━━━━━━━━━━━━━━━━━━━\u001b[0m \u001b[32m281.4/281.4 MB\u001b[0m \u001b[31m4.3 MB/s\u001b[0m eta \u001b[36m0:00:00\u001b[0m\n",
            "\u001b[?25h  Preparing metadata (setup.py) ... \u001b[?25l\u001b[?25hdone\n",
            "Collecting py4j==0.10.9.5\n",
            "  Downloading py4j-0.10.9.5-py2.py3-none-any.whl (199 kB)\n",
            "\u001b[2K     \u001b[90m━━━━━━━━━━━━━━━━━━━━━━━━━━━━━━━━━━━━━━\u001b[0m \u001b[32m199.7/199.7 KB\u001b[0m \u001b[31m22.6 MB/s\u001b[0m eta \u001b[36m0:00:00\u001b[0m\n",
            "\u001b[?25hBuilding wheels for collected packages: pyspark\n",
            "  Building wheel for pyspark (setup.py) ... \u001b[?25l\u001b[?25hdone\n",
            "  Created wheel for pyspark: filename=pyspark-3.3.2-py2.py3-none-any.whl size=281824025 sha256=a93874b44037ef6d5ecbc6754d557e2c80800f0f59972c575793e5acf00ca27b\n",
            "  Stored in directory: /root/.cache/pip/wheels/b1/59/a0/a1a0624b5e865fd389919c1a10f53aec9b12195d6747710baf\n",
            "Successfully built pyspark\n",
            "Installing collected packages: py4j, pyspark\n",
            "Successfully installed py4j-0.10.9.5 pyspark-3.3.2\n"
          ]
        }
      ],
      "source": [
        "pip install pyspark"
      ]
    },
    {
      "cell_type": "code",
      "source": [
        "from pyspark.sql import SparkSession\n",
        "from pyspark.sql.functions import *\n"
      ],
      "metadata": {
        "id": "okpYLHK2Xlb4"
      },
      "execution_count": 6,
      "outputs": []
    },
    {
      "cell_type": "code",
      "source": [
        "# Mount my Google drive\n",
        "from google.colab import drive\n",
        "drive.mount('/content/drive')"
      ],
      "metadata": {
        "colab": {
          "base_uri": "https://localhost:8080/"
        },
        "id": "VHdwMcpKXnJJ",
        "outputId": "b89afba2-5a81-4a21-f092-51b3fa2b4fab"
      },
      "execution_count": 7,
      "outputs": [
        {
          "output_type": "stream",
          "name": "stdout",
          "text": [
            "Mounted at /content/drive\n"
          ]
        }
      ]
    },
    {
      "cell_type": "code",
      "source": [
        "spark = SparkSession.builder \\\n",
        "    .appName(\"SparkSQLExercise\") \\\n",
        "    .getOrCreate()\n",
        "sc = spark.sparkContext\n",
        "sc.setLogLevel('WARN')\n",
        "sc.uiWebUrl"
      ],
      "metadata": {
        "colab": {
          "base_uri": "https://localhost:8080/",
          "height": 36
        },
        "id": "vJFwcFYgXofD",
        "outputId": "2b582626-7781-4475-d18a-69fc451468c3"
      },
      "execution_count": 8,
      "outputs": [
        {
          "output_type": "execute_result",
          "data": {
            "text/plain": [
              "'http://d14768091729:4040'"
            ],
            "application/vnd.google.colaboratory.intrinsic+json": {
              "type": "string"
            }
          },
          "metadata": {},
          "execution_count": 8
        }
      ]
    },
    {
      "cell_type": "code",
      "source": [
        "myfile = \"drive/MyDrive/Colab Notebooks/cs452/inputData/us-countries.csv\"\n",
        "\n",
        "data = spark.read.format(\"csv\") \\\n",
        "    .option(\"header\", \"true\") \\\n",
        "    .option(\"inferSchema\", \"true\") \\\n",
        "    .load(myfile)\n",
        "#df = spark.read.csv(myfile, header=True, inferSchema=True)\n",
        "\n"
      ],
      "metadata": {
        "id": "a1cgDKc6XsVO"
      },
      "execution_count": 9,
      "outputs": []
    },
    {
      "cell_type": "code",
      "source": [
        "data.show()"
      ],
      "metadata": {
        "colab": {
          "base_uri": "https://localhost:8080/"
        },
        "id": "rR08AcGjfP1I",
        "outputId": "5b1fde0a-6338-4716-a881-6e0390ab64af"
      },
      "execution_count": 30,
      "outputs": [
        {
          "output_type": "stream",
          "name": "stdout",
          "text": [
            "+-------------------+-----------+----------+-----+-----+------+\n",
            "|               date|     county|     state| fips|cases|deaths|\n",
            "+-------------------+-----------+----------+-----+-----+------+\n",
            "|2020-01-21 00:00:00|  Snohomish|Washington|53061|    1|     0|\n",
            "|2020-01-22 00:00:00|  Snohomish|Washington|53061|    1|     0|\n",
            "|2020-01-23 00:00:00|  Snohomish|Washington|53061|    1|     0|\n",
            "|2020-01-24 00:00:00|       Cook|  Illinois|17031|    1|     0|\n",
            "|2020-01-24 00:00:00|  Snohomish|Washington|53061|    1|     0|\n",
            "|2020-01-25 00:00:00|     Orange|California| 6059|    1|     0|\n",
            "|2020-01-25 00:00:00|       Cook|  Illinois|17031|    1|     0|\n",
            "|2020-01-25 00:00:00|  Snohomish|Washington|53061|    1|     0|\n",
            "|2020-01-26 00:00:00|   Maricopa|   Arizona| 4013|    1|     0|\n",
            "|2020-01-26 00:00:00|Los Angeles|California| 6037|    1|     0|\n",
            "|2020-01-26 00:00:00|     Orange|California| 6059|    1|     0|\n",
            "|2020-01-26 00:00:00|       Cook|  Illinois|17031|    1|     0|\n",
            "|2020-01-26 00:00:00|  Snohomish|Washington|53061|    1|     0|\n",
            "|2020-01-27 00:00:00|   Maricopa|   Arizona| 4013|    1|     0|\n",
            "|2020-01-27 00:00:00|Los Angeles|California| 6037|    1|     0|\n",
            "|2020-01-27 00:00:00|     Orange|California| 6059|    1|     0|\n",
            "|2020-01-27 00:00:00|       Cook|  Illinois|17031|    1|     0|\n",
            "|2020-01-27 00:00:00|  Snohomish|Washington|53061|    1|     0|\n",
            "|2020-01-28 00:00:00|   Maricopa|   Arizona| 4013|    1|     0|\n",
            "|2020-01-28 00:00:00|Los Angeles|California| 6037|    1|     0|\n",
            "+-------------------+-----------+----------+-----+-----+------+\n",
            "only showing top 20 rows\n",
            "\n"
          ]
        }
      ]
    },
    {
      "cell_type": "code",
      "source": [
        "# Assuming the county column is named \"county\"\n",
        "num_counties = data.select(\"county\").distinct().count()\n",
        "\n",
        "# Print the number of distinct counties\n",
        "print(\"Number of counties:\", num_counties)"
      ],
      "metadata": {
        "colab": {
          "base_uri": "https://localhost:8080/"
        },
        "id": "qvIcAqIMRvF6",
        "outputId": "1a16f6b0-88c1-4d7d-9466-697183b7a932"
      },
      "execution_count": 10,
      "outputs": [
        {
          "output_type": "stream",
          "name": "stdout",
          "text": [
            "Number of counties: 1932\n"
          ]
        }
      ]
    },
    {
      "cell_type": "code",
      "source": [
        "# Assuming the county column is named \"county\"\n",
        "num_states = data.select(\"state\").distinct().count()\n",
        "\n",
        "# Print the number of distinct counties\n",
        "print(\"Number of States:\", num_states)"
      ],
      "metadata": {
        "colab": {
          "base_uri": "https://localhost:8080/"
        },
        "id": "7WIPjXz4Y7w8",
        "outputId": "918d8632-b983-49f0-ea10-d220f3b559b5"
      },
      "execution_count": 13,
      "outputs": [
        {
          "output_type": "stream",
          "name": "stdout",
          "text": [
            "Number of States: 56\n"
          ]
        }
      ]
    },
    {
      "cell_type": "markdown",
      "source": [
        "2.Write code to find the county with the most deaths"
      ],
      "metadata": {
        "id": "khmgEBOSgbMf"
      }
    },
    {
      "cell_type": "code",
      "source": [
        "latest_date = data.agg(max(\"date\")).collect()[0][0]\n",
        "latest_data = data.filter(data.date == latest_date)\n",
        "\n",
        "\n",
        "latest_deaths = latest_data.groupBy(\"county\") \\\n",
        "    .agg(max(\"deaths\").alias(\"LatestDeaths\"))\n",
        "\n",
        "\n",
        "# latest_deaths.show(100)\n",
        "\n",
        "\n",
        "max_deaths_county = latest_deaths.orderBy(desc(\"LatestDeaths\")).first()\n",
        "\n",
        "print(\"The county with the most deaths is {} with a total of {} deaths.\".format(max_deaths_county.county, max_deaths_county.LatestDeaths))\n"
      ],
      "metadata": {
        "colab": {
          "base_uri": "https://localhost:8080/"
        },
        "id": "oJkLre_TfAw0",
        "outputId": "1c01c216-4478-47ab-a4dc-cb4ad6d3f45d"
      },
      "execution_count": 15,
      "outputs": [
        {
          "output_type": "stream",
          "name": "stdout",
          "text": [
            "The county with the most deaths is New York City with a total of 40267 deaths.\n"
          ]
        }
      ]
    },
    {
      "cell_type": "markdown",
      "source": [
        "3.Write code to find the county with the most cases"
      ],
      "metadata": {
        "id": "jgFNEhahghhN"
      }
    },
    {
      "cell_type": "code",
      "source": [
        "latest_deaths = latest_data.groupBy(\"county\") \\\n",
        "    .agg(max(\"cases\").alias(\"LatestCases\"))\n",
        "\n",
        "#latest_deaths.show(100)\n",
        "\n",
        "max_cases_county = latest_deaths.orderBy(desc(\"LatestCases\")).first()\n",
        "\n",
        "print(\"The county with the most casess is {} with a total of {} cases.\".format(max_cases_county.county, max_cases_county.LatestCases))"
      ],
      "metadata": {
        "colab": {
          "base_uri": "https://localhost:8080/"
        },
        "id": "s_5ZzGd0fuNO",
        "outputId": "bf94dc55-8e50-42da-f657-4af363754d51"
      },
      "execution_count": 55,
      "outputs": [
        {
          "output_type": "stream",
          "name": "stdout",
          "text": [
            "The county with the most casess is Los Angeles with a total of 2908425 cases.\n"
          ]
        }
      ]
    },
    {
      "cell_type": "markdown",
      "source": [
        "4.Write code to find the total number of deaths in Utah county"
      ],
      "metadata": {
        "id": "5jmZj30_gYy9"
      }
    },
    {
      "cell_type": "code",
      "source": [
        "utah_data = data.filter((data.county == \"Utah\") & (data.state == \"Utah\"))\n",
        "\n",
        "#utah_data.show()\n",
        "\n",
        "latest_date = utah_data.agg(max(\"date\")).collect()[0][0]\n",
        "latest_data = utah_data.filter(data.date == latest_date)\n",
        "\n",
        "latest_data.show()\n",
        "\n",
        "total_deaths = latest_data.agg(sum(\"deaths\")).collect()[0][0]\n",
        "print(\"The total number of deaths in Utah county is {}\".format(total_deaths))"
      ],
      "metadata": {
        "colab": {
          "base_uri": "https://localhost:8080/"
        },
        "id": "8aBfzTvTgNx4",
        "outputId": "033933ab-3ffb-4c42-a13b-06d97b3ce048"
      },
      "execution_count": 71,
      "outputs": [
        {
          "output_type": "stream",
          "name": "stdout",
          "text": [
            "+-------------------+------+-----+-----+------+------+\n",
            "|               date|county|state| fips| cases|deaths|\n",
            "+-------------------+------+-----+-----+------+------+\n",
            "|2022-05-13 00:00:00|  Utah| Utah|49049|203286|   791|\n",
            "+-------------------+------+-----+-----+------+------+\n",
            "\n",
            "The total number of deaths in Utah county is 791\n"
          ]
        }
      ]
    },
    {
      "cell_type": "markdown",
      "source": [
        "5. Write code to find the death rate for each state and sort the states by death rate"
      ],
      "metadata": {
        "id": "9mteIAlUu4Nk"
      }
    },
    {
      "cell_type": "code",
      "source": [
        "df.show(100)"
      ],
      "metadata": {
        "colab": {
          "base_uri": "https://localhost:8080/"
        },
        "id": "oLqQCwIdxRZG",
        "outputId": "fcf71a8c-a843-4915-db73-9da4fadadf47"
      },
      "execution_count": 74,
      "outputs": [
        {
          "output_type": "stream",
          "name": "stdout",
          "text": [
            "+-------------------+-------------+-------------+-----+-----+------+\n",
            "|               date|       county|        state| fips|cases|deaths|\n",
            "+-------------------+-------------+-------------+-----+-----+------+\n",
            "|2020-01-21 00:00:00|    Snohomish|   Washington|53061|    1|     0|\n",
            "|2020-01-22 00:00:00|    Snohomish|   Washington|53061|    1|     0|\n",
            "|2020-01-23 00:00:00|    Snohomish|   Washington|53061|    1|     0|\n",
            "|2020-01-24 00:00:00|         Cook|     Illinois|17031|    1|     0|\n",
            "|2020-01-24 00:00:00|    Snohomish|   Washington|53061|    1|     0|\n",
            "|2020-01-25 00:00:00|       Orange|   California| 6059|    1|     0|\n",
            "|2020-01-25 00:00:00|         Cook|     Illinois|17031|    1|     0|\n",
            "|2020-01-25 00:00:00|    Snohomish|   Washington|53061|    1|     0|\n",
            "|2020-01-26 00:00:00|     Maricopa|      Arizona| 4013|    1|     0|\n",
            "|2020-01-26 00:00:00|  Los Angeles|   California| 6037|    1|     0|\n",
            "|2020-01-26 00:00:00|       Orange|   California| 6059|    1|     0|\n",
            "|2020-01-26 00:00:00|         Cook|     Illinois|17031|    1|     0|\n",
            "|2020-01-26 00:00:00|    Snohomish|   Washington|53061|    1|     0|\n",
            "|2020-01-27 00:00:00|     Maricopa|      Arizona| 4013|    1|     0|\n",
            "|2020-01-27 00:00:00|  Los Angeles|   California| 6037|    1|     0|\n",
            "|2020-01-27 00:00:00|       Orange|   California| 6059|    1|     0|\n",
            "|2020-01-27 00:00:00|         Cook|     Illinois|17031|    1|     0|\n",
            "|2020-01-27 00:00:00|    Snohomish|   Washington|53061|    1|     0|\n",
            "|2020-01-28 00:00:00|     Maricopa|      Arizona| 4013|    1|     0|\n",
            "|2020-01-28 00:00:00|  Los Angeles|   California| 6037|    1|     0|\n",
            "|2020-01-28 00:00:00|       Orange|   California| 6059|    1|     0|\n",
            "|2020-01-28 00:00:00|         Cook|     Illinois|17031|    1|     0|\n",
            "|2020-01-28 00:00:00|    Snohomish|   Washington|53061|    1|     0|\n",
            "|2020-01-29 00:00:00|     Maricopa|      Arizona| 4013|    1|     0|\n",
            "|2020-01-29 00:00:00|  Los Angeles|   California| 6037|    1|     0|\n",
            "|2020-01-29 00:00:00|       Orange|   California| 6059|    1|     0|\n",
            "|2020-01-29 00:00:00|         Cook|     Illinois|17031|    1|     0|\n",
            "|2020-01-29 00:00:00|    Snohomish|   Washington|53061|    1|     0|\n",
            "|2020-01-30 00:00:00|     Maricopa|      Arizona| 4013|    1|     0|\n",
            "|2020-01-30 00:00:00|  Los Angeles|   California| 6037|    1|     0|\n",
            "|2020-01-30 00:00:00|       Orange|   California| 6059|    1|     0|\n",
            "|2020-01-30 00:00:00|         Cook|     Illinois|17031|    2|     0|\n",
            "|2020-01-30 00:00:00|    Snohomish|   Washington|53061|    1|     0|\n",
            "|2020-01-31 00:00:00|     Maricopa|      Arizona| 4013|    1|     0|\n",
            "|2020-01-31 00:00:00|  Los Angeles|   California| 6037|    1|     0|\n",
            "|2020-01-31 00:00:00|       Orange|   California| 6059|    1|     0|\n",
            "|2020-01-31 00:00:00|  Santa Clara|   California| 6085|    1|     0|\n",
            "|2020-01-31 00:00:00|         Cook|     Illinois|17031|    2|     0|\n",
            "|2020-01-31 00:00:00|    Snohomish|   Washington|53061|    1|     0|\n",
            "|2020-02-01 00:00:00|     Maricopa|      Arizona| 4013|    1|     0|\n",
            "|2020-02-01 00:00:00|  Los Angeles|   California| 6037|    1|     0|\n",
            "|2020-02-01 00:00:00|       Orange|   California| 6059|    1|     0|\n",
            "|2020-02-01 00:00:00|  Santa Clara|   California| 6085|    1|     0|\n",
            "|2020-02-01 00:00:00|         Cook|     Illinois|17031|    2|     0|\n",
            "|2020-02-01 00:00:00|      Suffolk|Massachusetts|25025|    1|     0|\n",
            "|2020-02-01 00:00:00|    Snohomish|   Washington|53061|    1|     0|\n",
            "|2020-02-02 00:00:00|     Maricopa|      Arizona| 4013|    1|     0|\n",
            "|2020-02-02 00:00:00|  Los Angeles|   California| 6037|    1|     0|\n",
            "|2020-02-02 00:00:00|       Orange|   California| 6059|    1|     0|\n",
            "|2020-02-02 00:00:00|San Francisco|   California| 6075|    2|     0|\n",
            "|2020-02-02 00:00:00|  Santa Clara|   California| 6085|    2|     0|\n",
            "|2020-02-02 00:00:00|         Cook|     Illinois|17031|    2|     0|\n",
            "|2020-02-02 00:00:00|      Suffolk|Massachusetts|25025|    1|     0|\n",
            "|2020-02-02 00:00:00|    Snohomish|   Washington|53061|    1|     0|\n",
            "|2020-02-03 00:00:00|     Maricopa|      Arizona| 4013|    1|     0|\n",
            "|2020-02-03 00:00:00|  Los Angeles|   California| 6037|    1|     0|\n",
            "|2020-02-03 00:00:00|       Orange|   California| 6059|    1|     0|\n",
            "|2020-02-03 00:00:00|San Francisco|   California| 6075|    2|     0|\n",
            "|2020-02-03 00:00:00|  Santa Clara|   California| 6085|    2|     0|\n",
            "|2020-02-03 00:00:00|         Cook|     Illinois|17031|    2|     0|\n",
            "|2020-02-03 00:00:00|      Suffolk|Massachusetts|25025|    1|     0|\n",
            "|2020-02-03 00:00:00|    Snohomish|   Washington|53061|    1|     0|\n",
            "|2020-02-04 00:00:00|     Maricopa|      Arizona| 4013|    1|     0|\n",
            "|2020-02-04 00:00:00|  Los Angeles|   California| 6037|    1|     0|\n",
            "|2020-02-04 00:00:00|       Orange|   California| 6059|    1|     0|\n",
            "|2020-02-04 00:00:00|San Francisco|   California| 6075|    2|     0|\n",
            "|2020-02-04 00:00:00|  Santa Clara|   California| 6085|    2|     0|\n",
            "|2020-02-04 00:00:00|         Cook|     Illinois|17031|    2|     0|\n",
            "|2020-02-04 00:00:00|      Suffolk|Massachusetts|25025|    1|     0|\n",
            "|2020-02-04 00:00:00|    Snohomish|   Washington|53061|    1|     0|\n",
            "|2020-02-05 00:00:00|     Maricopa|      Arizona| 4013|    1|     0|\n",
            "|2020-02-05 00:00:00|  Los Angeles|   California| 6037|    1|     0|\n",
            "|2020-02-05 00:00:00|       Orange|   California| 6059|    1|     0|\n",
            "|2020-02-05 00:00:00|San Francisco|   California| 6075|    2|     0|\n",
            "|2020-02-05 00:00:00|  Santa Clara|   California| 6085|    2|     0|\n",
            "|2020-02-05 00:00:00|         Cook|     Illinois|17031|    2|     0|\n",
            "|2020-02-05 00:00:00|      Suffolk|Massachusetts|25025|    1|     0|\n",
            "|2020-02-05 00:00:00|    Snohomish|   Washington|53061|    1|     0|\n",
            "|2020-02-05 00:00:00|         Dane|    Wisconsin|55025|    1|     0|\n",
            "|2020-02-06 00:00:00|     Maricopa|      Arizona| 4013|    1|     0|\n",
            "|2020-02-06 00:00:00|  Los Angeles|   California| 6037|    1|     0|\n",
            "|2020-02-06 00:00:00|       Orange|   California| 6059|    1|     0|\n",
            "|2020-02-06 00:00:00|San Francisco|   California| 6075|    2|     0|\n",
            "|2020-02-06 00:00:00|  Santa Clara|   California| 6085|    2|     0|\n",
            "|2020-02-06 00:00:00|         Cook|     Illinois|17031|    2|     0|\n",
            "|2020-02-06 00:00:00|      Suffolk|Massachusetts|25025|    1|     0|\n",
            "|2020-02-06 00:00:00|    Snohomish|   Washington|53061|    1|     0|\n",
            "|2020-02-06 00:00:00|         Dane|    Wisconsin|55025|    1|     0|\n",
            "|2020-02-07 00:00:00|     Maricopa|      Arizona| 4013|    1|     0|\n",
            "|2020-02-07 00:00:00|  Los Angeles|   California| 6037|    1|     0|\n",
            "|2020-02-07 00:00:00|       Orange|   California| 6059|    1|     0|\n",
            "|2020-02-07 00:00:00|San Francisco|   California| 6075|    2|     0|\n",
            "|2020-02-07 00:00:00|  Santa Clara|   California| 6085|    2|     0|\n",
            "|2020-02-07 00:00:00|         Cook|     Illinois|17031|    2|     0|\n",
            "|2020-02-07 00:00:00|      Suffolk|Massachusetts|25025|    1|     0|\n",
            "|2020-02-07 00:00:00|    Snohomish|   Washington|53061|    1|     0|\n",
            "|2020-02-07 00:00:00|         Dane|    Wisconsin|55025|    1|     0|\n",
            "|2020-02-08 00:00:00|     Maricopa|      Arizona| 4013|    1|     0|\n",
            "|2020-02-08 00:00:00|  Los Angeles|   California| 6037|    1|     0|\n",
            "|2020-02-08 00:00:00|       Orange|   California| 6059|    1|     0|\n",
            "+-------------------+-------------+-------------+-----+-----+------+\n",
            "only showing top 100 rows\n",
            "\n"
          ]
        }
      ]
    },
    {
      "cell_type": "code",
      "source": [
        "from pyspark.sql.functions import round\n",
        "\n",
        "#latest_data.show(100)\n",
        "\n",
        "\n",
        "total_Death_df = latest_data.groupBy(\"state\").agg(((sum(\"deaths\")/sum(\"cases\"))*100).alias(\"Death rate\") )\n",
        "total_Death_df = total_Death_df.withColumn(\"Death rate\", (round(total_Death_df[\"Death rate\"], 2))).orderBy(desc(\"Death rate\"))\n",
        "total_Death_df.show(100) \n",
        "\n"
      ],
      "metadata": {
        "colab": {
          "base_uri": "https://localhost:8080/"
        },
        "id": "1irEXGhZu8Ua",
        "outputId": "64fdd8c6-5e35-4682-8718-3e491f2445e9"
      },
      "execution_count": 19,
      "outputs": [
        {
          "output_type": "stream",
          "name": "stdout",
          "text": [
            "+--------------------+----------+\n",
            "|               state|Death rate|\n",
            "+--------------------+----------+\n",
            "|        Pennsylvania|      1.57|\n",
            "|         Mississippi|      1.55|\n",
            "|             Alabama|       1.5|\n",
            "|             Georgia|      1.49|\n",
            "|              Nevada|      1.49|\n",
            "|             Arizona|      1.49|\n",
            "|            Michigan|      1.46|\n",
            "|          New Mexico|      1.45|\n",
            "|          New Jersey|      1.45|\n",
            "|            Missouri|      1.42|\n",
            "|                Ohio|      1.42|\n",
            "|         Connecticut|       1.4|\n",
            "|           Louisiana|      1.39|\n",
            "|            Oklahoma|      1.38|\n",
            "|             Indiana|      1.38|\n",
            "|            Maryland|      1.38|\n",
            "|       West Virginia|      1.36|\n",
            "|            Arkansas|      1.36|\n",
            "|           Tennessee|      1.31|\n",
            "|               Texas|       1.3|\n",
            "|            New York|      1.29|\n",
            "|             Florida|      1.24|\n",
            "|                Iowa|      1.24|\n",
            "|             Montana|      1.23|\n",
            "|        South Dakota|      1.22|\n",
            "|      South Carolina|      1.21|\n",
            "|            Illinois|      1.18|\n",
            "|            Virginia|      1.17|\n",
            "|            Kentucky|      1.17|\n",
            "|             Wyoming|      1.16|\n",
            "|       Massachusetts|      1.13|\n",
            "|              Kansas|      1.12|\n",
            "|               Idaho|       1.1|\n",
            "|            Delaware|       1.1|\n",
            "|              Oregon|      1.02|\n",
            "|          California|      0.97|\n",
            "|        North Dakota|      0.96|\n",
            "|District of Columbia|      0.93|\n",
            "|        Rhode Island|      0.93|\n",
            "|               Maine|      0.92|\n",
            "|      North Carolina|      0.91|\n",
            "|            Colorado|       0.9|\n",
            "|            Nebraska|      0.88|\n",
            "|           Wisconsin|      0.88|\n",
            "|           Minnesota|      0.87|\n",
            "|          Washington|      0.84|\n",
            "|       New Hampshire|      0.79|\n",
            "|                Guam|      0.73|\n",
            "|         Puerto Rico|      0.68|\n",
            "|      Virgin Islands|      0.63|\n",
            "|              Hawaii|      0.57|\n",
            "|                Utah|      0.51|\n",
            "|      American Samoa|      0.51|\n",
            "|             Vermont|       0.5|\n",
            "|              Alaska|      0.48|\n",
            "|Northern Mariana ...|       0.3|\n",
            "+--------------------+----------+\n",
            "\n"
          ]
        }
      ]
    },
    {
      "cell_type": "markdown",
      "source": [
        "6.Write code to something else interesting with this data – your choice\n",
        "\n",
        "Find the State that has the most death"
      ],
      "metadata": {
        "id": "00aIoLz3vA43"
      }
    },
    {
      "cell_type": "code",
      "source": [
        "latest_date = data.agg(max(\"date\")).collect()[0][0]\n",
        "latest_data = data.filter(data.date == latest_date)\n",
        "\n",
        "\n",
        "latest_deaths = latest_data.groupBy(\"state\") \\\n",
        "    .agg(max(\"deaths\").alias(\"LatestDeaths\"))\n",
        "\n",
        "\n",
        "# latest_deaths.show(100)\n",
        "\n",
        "\n",
        "max_deaths_States = latest_deaths.orderBy(desc(\"LatestDeaths\")).first()\n",
        "\n",
        "print(\"The state with the most deaths is {} with a total of {} deaths.\".format(max_deaths_States.state, max_deaths_States.LatestDeaths))"
      ],
      "metadata": {
        "colab": {
          "base_uri": "https://localhost:8080/"
        },
        "id": "Z1N3RggQvAi-",
        "outputId": "2f92879c-f481-4149-84d1-2964a6bd7fcc"
      },
      "execution_count": 20,
      "outputs": [
        {
          "output_type": "stream",
          "name": "stdout",
          "text": [
            "The state with the most deaths is New York with a total of 40267 deaths.\n"
          ]
        }
      ]
    }
  ]
}