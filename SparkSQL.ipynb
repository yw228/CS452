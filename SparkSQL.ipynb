{
  "nbformat": 4,
  "nbformat_minor": 0,
  "metadata": {
    "colab": {
      "provenance": [],
      "authorship_tag": "ABX9TyNsCtb004BmQn1zxiyLBA01",
      "include_colab_link": true
    },
    "kernelspec": {
      "name": "python3",
      "display_name": "Python 3"
    },
    "language_info": {
      "name": "python"
    }
  },
  "cells": [
    {
      "cell_type": "markdown",
      "metadata": {
        "id": "view-in-github",
        "colab_type": "text"
      },
      "source": [
        "<a href=\"https://colab.research.google.com/github/yw228/CS452/blob/main/SparkSQL.ipynb\" target=\"_parent\"><img src=\"https://colab.research.google.com/assets/colab-badge.svg\" alt=\"Open In Colab\"/></a>"
      ]
    },
    {
      "cell_type": "code",
      "execution_count": 1,
      "metadata": {
        "colab": {
          "base_uri": "https://localhost:8080/"
        },
        "id": "zehALelkXecI",
        "outputId": "1aa13959-2297-4091-bf5b-7f9d3c976247"
      },
      "outputs": [
        {
          "output_type": "stream",
          "name": "stdout",
          "text": [
            "Looking in indexes: https://pypi.org/simple, https://us-python.pkg.dev/colab-wheels/public/simple/\n",
            "Collecting pyspark\n",
            "  Downloading pyspark-3.3.2.tar.gz (281.4 MB)\n",
            "\u001b[2K     \u001b[90m━━━━━━━━━━━━━━━━━━━━━━━━━━━━━━━━━━━━━━━\u001b[0m \u001b[32m281.4/281.4 MB\u001b[0m \u001b[31m3.6 MB/s\u001b[0m eta \u001b[36m0:00:00\u001b[0m\n",
            "\u001b[?25h  Preparing metadata (setup.py) ... \u001b[?25l\u001b[?25hdone\n",
            "Collecting py4j==0.10.9.5\n",
            "  Downloading py4j-0.10.9.5-py2.py3-none-any.whl (199 kB)\n",
            "\u001b[2K     \u001b[90m━━━━━━━━━━━━━━━━━━━━━━━━━━━━━━━━━━━━━━\u001b[0m \u001b[32m199.7/199.7 KB\u001b[0m \u001b[31m13.1 MB/s\u001b[0m eta \u001b[36m0:00:00\u001b[0m\n",
            "\u001b[?25hBuilding wheels for collected packages: pyspark\n",
            "  Building wheel for pyspark (setup.py) ... \u001b[?25l\u001b[?25hdone\n",
            "  Created wheel for pyspark: filename=pyspark-3.3.2-py2.py3-none-any.whl size=281824025 sha256=e7f576142d042f9a2bafe479c673071a8283d6b5ee0c8174bbdd4898adfeab4f\n",
            "  Stored in directory: /root/.cache/pip/wheels/b1/59/a0/a1a0624b5e865fd389919c1a10f53aec9b12195d6747710baf\n",
            "Successfully built pyspark\n",
            "Installing collected packages: py4j, pyspark\n",
            "Successfully installed py4j-0.10.9.5 pyspark-3.3.2\n"
          ]
        }
      ],
      "source": [
        "pip install pyspark"
      ]
    },
    {
      "cell_type": "code",
      "source": [
        "from pyspark.sql import SparkSession\n",
        "from pyspark.sql.functions import sum, desc\n",
        "import re\n",
        "import pandas as pd"
      ],
      "metadata": {
        "id": "okpYLHK2Xlb4"
      },
      "execution_count": 26,
      "outputs": []
    },
    {
      "cell_type": "code",
      "source": [
        "# Mount my Google drive\n",
        "from google.colab import drive\n",
        "drive.mount('/content/drive')"
      ],
      "metadata": {
        "colab": {
          "base_uri": "https://localhost:8080/"
        },
        "id": "VHdwMcpKXnJJ",
        "outputId": "e1530832-c8b8-4b8b-a080-e0e9f49ab1b7"
      },
      "execution_count": 3,
      "outputs": [
        {
          "output_type": "stream",
          "name": "stdout",
          "text": [
            "Mounted at /content/drive\n"
          ]
        }
      ]
    },
    {
      "cell_type": "code",
      "source": [
        "spark = SparkSession.builder \\\n",
        "    .appName(\"SparkSQLExercise\") \\\n",
        "    .getOrCreate()\n",
        "sc = spark.sparkContext\n",
        "sc.setLogLevel('WARN')\n",
        "sc.uiWebUrl"
      ],
      "metadata": {
        "colab": {
          "base_uri": "https://localhost:8080/",
          "height": 36
        },
        "id": "vJFwcFYgXofD",
        "outputId": "832c8a14-c040-4679-a5b0-14c66cbdb938"
      },
      "execution_count": 11,
      "outputs": [
        {
          "output_type": "execute_result",
          "data": {
            "text/plain": [
              "'http://73c90f6aae2d:4040'"
            ],
            "application/vnd.google.colaboratory.intrinsic+json": {
              "type": "string"
            }
          },
          "metadata": {},
          "execution_count": 11
        }
      ]
    },
    {
      "cell_type": "code",
      "source": [
        "myfile = \"drive/MyDrive/Colab Notebooks/cs452/inputData/us-countries.csv\"\n",
        "\n",
        "df = spark.read.csv(myfile, header=True, inferSchema=True)\n",
        "\n"
      ],
      "metadata": {
        "id": "a1cgDKc6XsVO"
      },
      "execution_count": 21,
      "outputs": []
    },
    {
      "cell_type": "code",
      "source": [
        "df.show()"
      ],
      "metadata": {
        "colab": {
          "base_uri": "https://localhost:8080/"
        },
        "id": "rR08AcGjfP1I",
        "outputId": "31abe06f-c6f7-4f33-a1ff-66ad89c0ec4f"
      },
      "execution_count": 24,
      "outputs": [
        {
          "output_type": "stream",
          "name": "stdout",
          "text": [
            "+-------------------+-----------+----------+-----+-----+------+\n",
            "|               date|     county|     state| fips|cases|deaths|\n",
            "+-------------------+-----------+----------+-----+-----+------+\n",
            "|2020-01-21 00:00:00|  Snohomish|Washington|53061|    1|     0|\n",
            "|2020-01-22 00:00:00|  Snohomish|Washington|53061|    1|     0|\n",
            "|2020-01-23 00:00:00|  Snohomish|Washington|53061|    1|     0|\n",
            "|2020-01-24 00:00:00|       Cook|  Illinois|17031|    1|     0|\n",
            "|2020-01-24 00:00:00|  Snohomish|Washington|53061|    1|     0|\n",
            "|2020-01-25 00:00:00|     Orange|California| 6059|    1|     0|\n",
            "|2020-01-25 00:00:00|       Cook|  Illinois|17031|    1|     0|\n",
            "|2020-01-25 00:00:00|  Snohomish|Washington|53061|    1|     0|\n",
            "|2020-01-26 00:00:00|   Maricopa|   Arizona| 4013|    1|     0|\n",
            "|2020-01-26 00:00:00|Los Angeles|California| 6037|    1|     0|\n",
            "|2020-01-26 00:00:00|     Orange|California| 6059|    1|     0|\n",
            "|2020-01-26 00:00:00|       Cook|  Illinois|17031|    1|     0|\n",
            "|2020-01-26 00:00:00|  Snohomish|Washington|53061|    1|     0|\n",
            "|2020-01-27 00:00:00|   Maricopa|   Arizona| 4013|    1|     0|\n",
            "|2020-01-27 00:00:00|Los Angeles|California| 6037|    1|     0|\n",
            "|2020-01-27 00:00:00|     Orange|California| 6059|    1|     0|\n",
            "|2020-01-27 00:00:00|       Cook|  Illinois|17031|    1|     0|\n",
            "|2020-01-27 00:00:00|  Snohomish|Washington|53061|    1|     0|\n",
            "|2020-01-28 00:00:00|   Maricopa|   Arizona| 4013|    1|     0|\n",
            "|2020-01-28 00:00:00|Los Angeles|California| 6037|    1|     0|\n",
            "+-------------------+-----------+----------+-----+-----+------+\n",
            "only showing top 20 rows\n",
            "\n"
          ]
        }
      ]
    },
    {
      "cell_type": "markdown",
      "source": [
        "2.Write code to find the county with the most deaths"
      ],
      "metadata": {
        "id": "khmgEBOSgbMf"
      }
    },
    {
      "cell_type": "code",
      "source": [
        "total_Death_df = df.groupBy(\"county\").agg(sum(\"deaths\").alias(\"total_deaths\"))\n",
        "#total_Death_df.show()\n",
        "most_death_county = total_Death_df.orderBy(desc(\"total_deaths\")).first()[\"county\"]\n",
        "print(\"The county with the most deaths is:\", most_death_county)"
      ],
      "metadata": {
        "colab": {
          "base_uri": "https://localhost:8080/"
        },
        "id": "oJkLre_TfAw0",
        "outputId": "e965012b-3de7-440c-9f2b-3fccbd5532af"
      },
      "execution_count": 35,
      "outputs": [
        {
          "output_type": "stream",
          "name": "stdout",
          "text": [
            "The county with the most deaths is: New York City\n"
          ]
        }
      ]
    },
    {
      "cell_type": "markdown",
      "source": [
        "3.Write code to find the county with the most cases"
      ],
      "metadata": {
        "id": "jgFNEhahghhN"
      }
    },
    {
      "cell_type": "code",
      "source": [
        "total_case_df = df.groupBy(\"county\").agg(sum(\"cases\").alias(\"total_cases\"))\n",
        "#total_case_df.show()\n",
        "most_cases_county = total_case_df.orderBy(desc(\"total_cases\")).first()[\"county\"]\n",
        "print(\"The county with the most deaths is:\", most_cases_county)"
      ],
      "metadata": {
        "colab": {
          "base_uri": "https://localhost:8080/"
        },
        "id": "s_5ZzGd0fuNO",
        "outputId": "d81c0115-7899-40db-9bc3-0de074b9debd"
      },
      "execution_count": 38,
      "outputs": [
        {
          "output_type": "stream",
          "name": "stdout",
          "text": [
            "The county with the most deaths is: Los Angeles\n"
          ]
        }
      ]
    },
    {
      "cell_type": "markdown",
      "source": [
        "4.Write code to find the total number of deaths in Utah county"
      ],
      "metadata": {
        "id": "5jmZj30_gYy9"
      }
    },
    {
      "cell_type": "code",
      "source": [
        "utah_county_death = df.filter(df.county == \"Utah\").agg(sum(\"deaths\")).first()[0]\n",
        "\n",
        "print(\"The total number of deaths in Utah county is:\", utah_county_death)"
      ],
      "metadata": {
        "colab": {
          "base_uri": "https://localhost:8080/"
        },
        "id": "8aBfzTvTgNx4",
        "outputId": "09223f47-5796-41a3-fbe0-955a247a68d6"
      },
      "execution_count": 53,
      "outputs": [
        {
          "output_type": "stream",
          "name": "stdout",
          "text": [
            "The total number of deaths in Utah county is: 270727\n"
          ]
        }
      ]
    },
    {
      "cell_type": "markdown",
      "source": [
        "5. Write code to find the death rate for each state and sort the states by death rate"
      ],
      "metadata": {
        "id": "9mteIAlUu4Nk"
      }
    },
    {
      "cell_type": "code",
      "source": [
        "df.show(100)"
      ],
      "metadata": {
        "colab": {
          "base_uri": "https://localhost:8080/"
        },
        "id": "oLqQCwIdxRZG",
        "outputId": "373e7e7c-4b2b-4070-c81f-eda3d7e48ae9"
      },
      "execution_count": 54,
      "outputs": [
        {
          "output_type": "stream",
          "name": "stdout",
          "text": [
            "+-------------------+-------------+-------------+-----+-----+------+\n",
            "|               date|       county|        state| fips|cases|deaths|\n",
            "+-------------------+-------------+-------------+-----+-----+------+\n",
            "|2020-01-21 00:00:00|    Snohomish|   Washington|53061|    1|     0|\n",
            "|2020-01-22 00:00:00|    Snohomish|   Washington|53061|    1|     0|\n",
            "|2020-01-23 00:00:00|    Snohomish|   Washington|53061|    1|     0|\n",
            "|2020-01-24 00:00:00|         Cook|     Illinois|17031|    1|     0|\n",
            "|2020-01-24 00:00:00|    Snohomish|   Washington|53061|    1|     0|\n",
            "|2020-01-25 00:00:00|       Orange|   California| 6059|    1|     0|\n",
            "|2020-01-25 00:00:00|         Cook|     Illinois|17031|    1|     0|\n",
            "|2020-01-25 00:00:00|    Snohomish|   Washington|53061|    1|     0|\n",
            "|2020-01-26 00:00:00|     Maricopa|      Arizona| 4013|    1|     0|\n",
            "|2020-01-26 00:00:00|  Los Angeles|   California| 6037|    1|     0|\n",
            "|2020-01-26 00:00:00|       Orange|   California| 6059|    1|     0|\n",
            "|2020-01-26 00:00:00|         Cook|     Illinois|17031|    1|     0|\n",
            "|2020-01-26 00:00:00|    Snohomish|   Washington|53061|    1|     0|\n",
            "|2020-01-27 00:00:00|     Maricopa|      Arizona| 4013|    1|     0|\n",
            "|2020-01-27 00:00:00|  Los Angeles|   California| 6037|    1|     0|\n",
            "|2020-01-27 00:00:00|       Orange|   California| 6059|    1|     0|\n",
            "|2020-01-27 00:00:00|         Cook|     Illinois|17031|    1|     0|\n",
            "|2020-01-27 00:00:00|    Snohomish|   Washington|53061|    1|     0|\n",
            "|2020-01-28 00:00:00|     Maricopa|      Arizona| 4013|    1|     0|\n",
            "|2020-01-28 00:00:00|  Los Angeles|   California| 6037|    1|     0|\n",
            "|2020-01-28 00:00:00|       Orange|   California| 6059|    1|     0|\n",
            "|2020-01-28 00:00:00|         Cook|     Illinois|17031|    1|     0|\n",
            "|2020-01-28 00:00:00|    Snohomish|   Washington|53061|    1|     0|\n",
            "|2020-01-29 00:00:00|     Maricopa|      Arizona| 4013|    1|     0|\n",
            "|2020-01-29 00:00:00|  Los Angeles|   California| 6037|    1|     0|\n",
            "|2020-01-29 00:00:00|       Orange|   California| 6059|    1|     0|\n",
            "|2020-01-29 00:00:00|         Cook|     Illinois|17031|    1|     0|\n",
            "|2020-01-29 00:00:00|    Snohomish|   Washington|53061|    1|     0|\n",
            "|2020-01-30 00:00:00|     Maricopa|      Arizona| 4013|    1|     0|\n",
            "|2020-01-30 00:00:00|  Los Angeles|   California| 6037|    1|     0|\n",
            "|2020-01-30 00:00:00|       Orange|   California| 6059|    1|     0|\n",
            "|2020-01-30 00:00:00|         Cook|     Illinois|17031|    2|     0|\n",
            "|2020-01-30 00:00:00|    Snohomish|   Washington|53061|    1|     0|\n",
            "|2020-01-31 00:00:00|     Maricopa|      Arizona| 4013|    1|     0|\n",
            "|2020-01-31 00:00:00|  Los Angeles|   California| 6037|    1|     0|\n",
            "|2020-01-31 00:00:00|       Orange|   California| 6059|    1|     0|\n",
            "|2020-01-31 00:00:00|  Santa Clara|   California| 6085|    1|     0|\n",
            "|2020-01-31 00:00:00|         Cook|     Illinois|17031|    2|     0|\n",
            "|2020-01-31 00:00:00|    Snohomish|   Washington|53061|    1|     0|\n",
            "|2020-02-01 00:00:00|     Maricopa|      Arizona| 4013|    1|     0|\n",
            "|2020-02-01 00:00:00|  Los Angeles|   California| 6037|    1|     0|\n",
            "|2020-02-01 00:00:00|       Orange|   California| 6059|    1|     0|\n",
            "|2020-02-01 00:00:00|  Santa Clara|   California| 6085|    1|     0|\n",
            "|2020-02-01 00:00:00|         Cook|     Illinois|17031|    2|     0|\n",
            "|2020-02-01 00:00:00|      Suffolk|Massachusetts|25025|    1|     0|\n",
            "|2020-02-01 00:00:00|    Snohomish|   Washington|53061|    1|     0|\n",
            "|2020-02-02 00:00:00|     Maricopa|      Arizona| 4013|    1|     0|\n",
            "|2020-02-02 00:00:00|  Los Angeles|   California| 6037|    1|     0|\n",
            "|2020-02-02 00:00:00|       Orange|   California| 6059|    1|     0|\n",
            "|2020-02-02 00:00:00|San Francisco|   California| 6075|    2|     0|\n",
            "|2020-02-02 00:00:00|  Santa Clara|   California| 6085|    2|     0|\n",
            "|2020-02-02 00:00:00|         Cook|     Illinois|17031|    2|     0|\n",
            "|2020-02-02 00:00:00|      Suffolk|Massachusetts|25025|    1|     0|\n",
            "|2020-02-02 00:00:00|    Snohomish|   Washington|53061|    1|     0|\n",
            "|2020-02-03 00:00:00|     Maricopa|      Arizona| 4013|    1|     0|\n",
            "|2020-02-03 00:00:00|  Los Angeles|   California| 6037|    1|     0|\n",
            "|2020-02-03 00:00:00|       Orange|   California| 6059|    1|     0|\n",
            "|2020-02-03 00:00:00|San Francisco|   California| 6075|    2|     0|\n",
            "|2020-02-03 00:00:00|  Santa Clara|   California| 6085|    2|     0|\n",
            "|2020-02-03 00:00:00|         Cook|     Illinois|17031|    2|     0|\n",
            "|2020-02-03 00:00:00|      Suffolk|Massachusetts|25025|    1|     0|\n",
            "|2020-02-03 00:00:00|    Snohomish|   Washington|53061|    1|     0|\n",
            "|2020-02-04 00:00:00|     Maricopa|      Arizona| 4013|    1|     0|\n",
            "|2020-02-04 00:00:00|  Los Angeles|   California| 6037|    1|     0|\n",
            "|2020-02-04 00:00:00|       Orange|   California| 6059|    1|     0|\n",
            "|2020-02-04 00:00:00|San Francisco|   California| 6075|    2|     0|\n",
            "|2020-02-04 00:00:00|  Santa Clara|   California| 6085|    2|     0|\n",
            "|2020-02-04 00:00:00|         Cook|     Illinois|17031|    2|     0|\n",
            "|2020-02-04 00:00:00|      Suffolk|Massachusetts|25025|    1|     0|\n",
            "|2020-02-04 00:00:00|    Snohomish|   Washington|53061|    1|     0|\n",
            "|2020-02-05 00:00:00|     Maricopa|      Arizona| 4013|    1|     0|\n",
            "|2020-02-05 00:00:00|  Los Angeles|   California| 6037|    1|     0|\n",
            "|2020-02-05 00:00:00|       Orange|   California| 6059|    1|     0|\n",
            "|2020-02-05 00:00:00|San Francisco|   California| 6075|    2|     0|\n",
            "|2020-02-05 00:00:00|  Santa Clara|   California| 6085|    2|     0|\n",
            "|2020-02-05 00:00:00|         Cook|     Illinois|17031|    2|     0|\n",
            "|2020-02-05 00:00:00|      Suffolk|Massachusetts|25025|    1|     0|\n",
            "|2020-02-05 00:00:00|    Snohomish|   Washington|53061|    1|     0|\n",
            "|2020-02-05 00:00:00|         Dane|    Wisconsin|55025|    1|     0|\n",
            "|2020-02-06 00:00:00|     Maricopa|      Arizona| 4013|    1|     0|\n",
            "|2020-02-06 00:00:00|  Los Angeles|   California| 6037|    1|     0|\n",
            "|2020-02-06 00:00:00|       Orange|   California| 6059|    1|     0|\n",
            "|2020-02-06 00:00:00|San Francisco|   California| 6075|    2|     0|\n",
            "|2020-02-06 00:00:00|  Santa Clara|   California| 6085|    2|     0|\n",
            "|2020-02-06 00:00:00|         Cook|     Illinois|17031|    2|     0|\n",
            "|2020-02-06 00:00:00|      Suffolk|Massachusetts|25025|    1|     0|\n",
            "|2020-02-06 00:00:00|    Snohomish|   Washington|53061|    1|     0|\n",
            "|2020-02-06 00:00:00|         Dane|    Wisconsin|55025|    1|     0|\n",
            "|2020-02-07 00:00:00|     Maricopa|      Arizona| 4013|    1|     0|\n",
            "|2020-02-07 00:00:00|  Los Angeles|   California| 6037|    1|     0|\n",
            "|2020-02-07 00:00:00|       Orange|   California| 6059|    1|     0|\n",
            "|2020-02-07 00:00:00|San Francisco|   California| 6075|    2|     0|\n",
            "|2020-02-07 00:00:00|  Santa Clara|   California| 6085|    2|     0|\n",
            "|2020-02-07 00:00:00|         Cook|     Illinois|17031|    2|     0|\n",
            "|2020-02-07 00:00:00|      Suffolk|Massachusetts|25025|    1|     0|\n",
            "|2020-02-07 00:00:00|    Snohomish|   Washington|53061|    1|     0|\n",
            "|2020-02-07 00:00:00|         Dane|    Wisconsin|55025|    1|     0|\n",
            "|2020-02-08 00:00:00|     Maricopa|      Arizona| 4013|    1|     0|\n",
            "|2020-02-08 00:00:00|  Los Angeles|   California| 6037|    1|     0|\n",
            "|2020-02-08 00:00:00|       Orange|   California| 6059|    1|     0|\n",
            "+-------------------+-------------+-------------+-----+-----+------+\n",
            "only showing top 100 rows\n",
            "\n"
          ]
        }
      ]
    },
    {
      "cell_type": "code",
      "source": [
        "from pyspark.sql.functions import round\n",
        "total_Death_df = df.groupBy(\"state\").agg(((sum(\"deaths\")/sum(\"cases\"))*100).alias(\"Death rate\") )\n",
        "total_Death_df = total_Death_df.withColumn(\"Death rate\", (round(total_Death_df[\"Death rate\"], 2))).orderBy(desc(\"Death rate\"))\n",
        "total_Death_df.show() \n",
        "\n"
      ],
      "metadata": {
        "colab": {
          "base_uri": "https://localhost:8080/"
        },
        "id": "1irEXGhZu8Ua",
        "outputId": "364aa98d-fc16-4f7d-ddec-80d40ed7f2be"
      },
      "execution_count": 77,
      "outputs": [
        {
          "output_type": "stream",
          "name": "stdout",
          "text": [
            "+--------------------+----------+\n",
            "|               state|Death rate|\n",
            "+--------------------+----------+\n",
            "|          New Jersey|      2.46|\n",
            "|            New York|      2.33|\n",
            "|         Connecticut|       2.3|\n",
            "|       Massachusetts|      2.22|\n",
            "|        Pennsylvania|      2.05|\n",
            "|         Mississippi|      1.96|\n",
            "|            Michigan|      1.94|\n",
            "|           Louisiana|      1.91|\n",
            "|            Maryland|      1.87|\n",
            "|District of Columbia|       1.8|\n",
            "|             Arizona|      1.74|\n",
            "|          New Mexico|      1.73|\n",
            "|             Alabama|      1.72|\n",
            "|             Georgia|      1.67|\n",
            "|             Indiana|      1.64|\n",
            "|            Illinois|      1.63|\n",
            "|              Nevada|       1.6|\n",
            "|                Ohio|      1.58|\n",
            "|               Texas|      1.55|\n",
            "|        Rhode Island|      1.54|\n",
            "+--------------------+----------+\n",
            "only showing top 20 rows\n",
            "\n"
          ]
        }
      ]
    },
    {
      "cell_type": "markdown",
      "source": [
        "6.Write code to something else interesting with this data – your choice\n",
        "\n",
        "Find the State that has the most death"
      ],
      "metadata": {
        "id": "00aIoLz3vA43"
      }
    },
    {
      "cell_type": "code",
      "source": [
        "total_Death_df = df.groupBy(\"state\").agg(sum(\"deaths\").alias(\"total_deaths\"))\n",
        "#total_Death_df.show()\n",
        "most_death_states = total_Death_df.orderBy(desc(\"total_deaths\")).first()[\"state\"]\n",
        "print(\"The states with the most deaths is:\", most_death_states)"
      ],
      "metadata": {
        "colab": {
          "base_uri": "https://localhost:8080/"
        },
        "id": "Z1N3RggQvAi-",
        "outputId": "ead27035-bdef-4543-8231-54547419e2e1"
      },
      "execution_count": 79,
      "outputs": [
        {
          "output_type": "stream",
          "name": "stdout",
          "text": [
            "The states with the most deaths is: California\n"
          ]
        }
      ]
    }
  ]
}